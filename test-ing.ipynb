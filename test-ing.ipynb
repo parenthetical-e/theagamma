{
 "cells": [
  {
   "cell_type": "markdown",
   "source": [
    "# A notebook to run\n",
    "the simulation scripts, and to analyze them further"
   ],
   "metadata": {}
  },
  {
   "cell_type": "code",
   "execution_count": 1,
   "source": [
    "import scipy as sp\n",
    "import numpy as np\n",
    "import matplotlib\n",
    "\n",
    "import matplotlib.pyplot as plt\n",
    "\n",
    "import os\n",
    "import re as re\n",
    "import matplotlib.patches as mpatches\n",
    "import pandas as pd\n",
    "\n",
    "from neurodsp.spectral import compute_spectrum\n",
    "from neurodsp.filt import filter_signal\n",
    "\n",
    "%load_ext lab_black\n",
    "%matplotlib inline\n",
    "%config InlineBackend.figure_format='retina'"
   ],
   "outputs": [],
   "metadata": {}
  },
  {
   "cell_type": "code",
   "execution_count": 6,
   "source": [
    "# %run FS-RS-FS2.py\n",
    "from theagamma.ing import ing_coupling\n",
    "\n",
    "result = ing_coupling()"
   ],
   "outputs": [
    {
     "output_type": "error",
     "ename": "UnboundLocalError",
     "evalue": "local variable 'amp' referenced before assignment",
     "traceback": [
      "\u001b[0;31m---------------------------------------------------------------------------\u001b[0m",
      "\u001b[0;31mUnboundLocalError\u001b[0m                         Traceback (most recent call last)",
      "\u001b[0;32m<ipython-input-6-73840d7ff65e>\u001b[0m in \u001b[0;36m<module>\u001b[0;34m\u001b[0m\n\u001b[1;32m      2\u001b[0m \u001b[0;32mfrom\u001b[0m \u001b[0mFS_RS_FS2\u001b[0m \u001b[0;32mimport\u001b[0m \u001b[0ming_coupling\u001b[0m\u001b[0;34m\u001b[0m\u001b[0;34m\u001b[0m\u001b[0m\n\u001b[1;32m      3\u001b[0m \u001b[0;34m\u001b[0m\u001b[0m\n\u001b[0;32m----> 4\u001b[0;31m \u001b[0mresult\u001b[0m \u001b[0;34m=\u001b[0m \u001b[0ming_coupling\u001b[0m\u001b[0;34m(\u001b[0m\u001b[0;34m)\u001b[0m\u001b[0;34m\u001b[0m\u001b[0;34m\u001b[0m\u001b[0m\n\u001b[0m",
      "\u001b[0;32m~/Code/theagamma/FS_RS_FS2.py\u001b[0m in \u001b[0;36ming_coupling\u001b[0;34m(file_name, stim_seed, seed)\u001b[0m\n\u001b[1;32m    203\u001b[0m \u001b[0;34m\u001b[0m\u001b[0m\n\u001b[1;32m    204\u001b[0m     \u001b[0;31m#Adaptation Current\u001b[0m\u001b[0;34m\u001b[0m\u001b[0;34m\u001b[0m\u001b[0;34m\u001b[0m\u001b[0m\n\u001b[0;32m--> 205\u001b[0;31m     \u001b[0mneuronsI\u001b[0m\u001b[0;34m.\u001b[0m\u001b[0mw\u001b[0m \u001b[0;34m=\u001b[0m \u001b[0;36m0.\u001b[0m \u001b[0;34m*\u001b[0m \u001b[0mamp\u001b[0m\u001b[0;34m\u001b[0m\u001b[0;34m\u001b[0m\u001b[0m\n\u001b[0m\u001b[1;32m    206\u001b[0m     \u001b[0mneuronsE\u001b[0m\u001b[0;34m.\u001b[0m\u001b[0mw\u001b[0m \u001b[0;34m=\u001b[0m \u001b[0;36m0.\u001b[0m \u001b[0;34m*\u001b[0m \u001b[0mamp\u001b[0m\u001b[0;34m\u001b[0m\u001b[0;34m\u001b[0m\u001b[0m\n\u001b[1;32m    207\u001b[0m     \u001b[0mneuronsIosc\u001b[0m\u001b[0;34m.\u001b[0m\u001b[0mw\u001b[0m \u001b[0;34m=\u001b[0m \u001b[0;36m0.\u001b[0m \u001b[0;34m*\u001b[0m \u001b[0mamp\u001b[0m\u001b[0;34m\u001b[0m\u001b[0;34m\u001b[0m\u001b[0m\n",
      "\u001b[0;31mUnboundLocalError\u001b[0m: local variable 'amp' referenced before assignment"
     ]
    }
   ],
   "metadata": {}
  },
  {
   "cell_type": "code",
   "execution_count": null,
   "source": [
    "plt.figure(figsize=(10, 2))\n",
    "plt.plot(spikemonStimulus.t, spikemonStimulus.i, \".\", markersize=0.1, color=\"black\")\n",
    "plt.xlabel(\"Time (s)\")\n",
    "plt.ylabel(\"Neuron\")\n",
    "plt.title(\"Stimulus\")"
   ],
   "outputs": [],
   "metadata": {}
  },
  {
   "cell_type": "code",
   "execution_count": null,
   "source": [
    "plt.figure(figsize=(10, 4))\n",
    "plt.plot(ratemonStimulus.t, ratemonStimulus.rate / Hz, color=\"black\")\n",
    "plt.xlabel(\"Time (s)\")\n",
    "plt.ylabel(\"Rate (Hz)\")\n",
    "plt.title(\"Stimulus\")"
   ],
   "outputs": [],
   "metadata": {}
  },
  {
   "cell_type": "code",
   "execution_count": null,
   "source": [
    "plt.figure(figsize=(10, 2))\n",
    "plt.plot(spikemonIosc.t, spikemonIosc.i, \".\", markersize=1, color=\"black\")\n",
    "plt.xlabel(\"Time (s)\")\n",
    "plt.ylabel(\"Neuron\")\n",
    "plt.title(\"Osc (ING)\")"
   ],
   "outputs": [],
   "metadata": {}
  },
  {
   "cell_type": "code",
   "execution_count": null,
   "source": [
    "plt.figure(figsize=(10, 6))\n",
    "# plt.title(\"Simulated LFP\", fontsize=30)\n",
    "plt.plot(Phase_time, LFP_thatOverLapsFileteredOne, color=\"grey\", label=\"Raw LFP\")\n",
    "plt.plot(\n",
    "    Phase_time,\n",
    "    LFPFiltered_main,\n",
    "    linewidth=1,\n",
    "    color=\"black\",\n",
    "    label=\"Filtered LFP \"\n",
    "    + str(int(lowcut_main))\n",
    "    + \"-\"\n",
    "    + str(int(highcut_main))\n",
    "    + \" Hz\",\n",
    ")\n",
    "plt.plot(\n",
    "    Phase_time, Envelope_main, linewidth=1, color=\"purple\", label=\"Hilbert Envelope\"\n",
    ")\n",
    "plt.legend(bbox_to_anchor=(1, 0.5))\n",
    "plt.xlabel(\"Time (s)\")\n",
    "plt.ylabel(\"LFP (AU)\")"
   ],
   "outputs": [],
   "metadata": {}
  },
  {
   "cell_type": "code",
   "execution_count": null,
   "source": [
    "plt.figure(figsize=(10, 4))\n",
    "plt.plot(ratemonIosc.t, ratemonIosc.rate / Hz, color=\"black\")\n",
    "plt.xlabel(\"Time (s)\")\n",
    "plt.ylabel(\"Rate (Hz)\")\n",
    "plt.title(\"Osc (ING)\")"
   ],
   "outputs": [],
   "metadata": {}
  },
  {
   "cell_type": "code",
   "execution_count": null,
   "source": [
    "fig, axes = plt.subplots(2, 1, sharey=True, figsize=(10, 4))\n",
    "axes[0].plot(ratemonE.t, ratemonE.rate / Hz, color=\"red\", label=\"E\")\n",
    "axes[0].set_xlabel(\"Time (s)\")\n",
    "axes[0].set_ylabel(\"Rate (Hz)\")\n",
    "axes[1].plot(ratemonI.t, ratemonI.rate / Hz, color=\"blue\", label=\"I\")\n",
    "axes[1].set_xlabel(\"Time (s)\")\n",
    "axes[1].set_ylabel(\"Rate (Hz)\")"
   ],
   "outputs": [],
   "metadata": {}
  },
  {
   "cell_type": "code",
   "execution_count": null,
   "source": [
    "# plt.plot(spikemonIosc.t, spikemonIosc.i, \".\", markersize=1, color=\"black\")\n",
    "fig, axes = plt.subplots(2, 1, sharey=False, figsize=(10, 8))\n",
    "axes[0].plot(spikemonE.t, spikemonE.i, \".\", markersize=1, color=\"red\", label=\"E\")\n",
    "axes[0].set_xlabel(\"Time (s)\")\n",
    "axes[0].set_ylabel(\"Neuron\")\n",
    "axes[1].plot(spikemonI.t, spikemonI.i, \".\", markersize=1, color=\"blue\", label=\"I\")\n",
    "axes[1].set_xlabel(\"Time (s)\")\n",
    "axes[1].set_ylabel(\"Neuron\")"
   ],
   "outputs": [],
   "metadata": {}
  },
  {
   "cell_type": "code",
   "execution_count": null,
   "source": [],
   "outputs": [],
   "metadata": {}
  }
 ],
 "metadata": {
  "orig_nbformat": 4,
  "language_info": {
   "name": "python",
   "version": "3.6.7",
   "mimetype": "text/x-python",
   "codemirror_mode": {
    "name": "ipython",
    "version": 3
   },
   "pygments_lexer": "ipython3",
   "nbconvert_exporter": "python",
   "file_extension": ".py"
  },
  "kernelspec": {
   "name": "python3",
   "display_name": "Python 3.6.7 64-bit ('py3.6': conda)"
  },
  "interpreter": {
   "hash": "5c0fa7a4f8f1487a2aac67eb43e7b2e553808a81f9be50af9e1ab194481cfe22"
  }
 },
 "nbformat": 4,
 "nbformat_minor": 2
}